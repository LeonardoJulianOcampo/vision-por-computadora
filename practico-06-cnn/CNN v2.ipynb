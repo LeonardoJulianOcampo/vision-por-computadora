{
 "cells": [
  {
   "cell_type": "code",
   "execution_count": 1,
   "id": "f4299db2",
   "metadata": {},
   "outputs": [
    {
     "name": "stderr",
     "output_type": "stream",
     "text": [
      "2023-07-08 17:02:37.885580: I tensorflow/core/util/port.cc:110] oneDNN custom operations are on. You may see slightly different numerical results due to floating-point round-off errors from different computation orders. To turn them off, set the environment variable `TF_ENABLE_ONEDNN_OPTS=0`.\n",
      "2023-07-08 17:02:37.920627: I tensorflow/tsl/cuda/cudart_stub.cc:28] Could not find cuda drivers on your machine, GPU will not be used.\n",
      "2023-07-08 17:02:38.061269: I tensorflow/tsl/cuda/cudart_stub.cc:28] Could not find cuda drivers on your machine, GPU will not be used.\n",
      "2023-07-08 17:02:38.062243: I tensorflow/core/platform/cpu_feature_guard.cc:182] This TensorFlow binary is optimized to use available CPU instructions in performance-critical operations.\n",
      "To enable the following instructions: AVX2 AVX_VNNI FMA, in other operations, rebuild TensorFlow with the appropriate compiler flags.\n",
      "2023-07-08 17:02:38.926030: W tensorflow/compiler/tf2tensorrt/utils/py_utils.cc:38] TF-TRT Warning: Could not find TensorRT\n"
     ]
    }
   ],
   "source": [
    "import numpy as np\n",
    "import pandas as pd\n",
    "import tensorflow as tf\n",
    "import matplotlib.pyplot as plt\n",
    "from sklearn.model_selection import train_test_split"
   ]
  },
  {
   "cell_type": "code",
   "execution_count": 2,
   "id": "4e42e577",
   "metadata": {},
   "outputs": [],
   "source": [
    "# Cargar el archivo CSV\n",
    "df = pd.read_csv(\"dataset_randomized.csv\")\n",
    "classes = [\"banana\", \"naranja\", \"sandia\"]\n",
    "# Dividir los datos en características (X) y etiquetas (y)\n",
    "images = df.iloc[:, :-1].values\n",
    "labels = df.iloc[:, -1].values\n",
    "\n",
    "# Dividir los datos en conjuntos de entrenamiento y prueba\n",
    "images_train, images_test, labels_train, labels_test = train_test_split(images, labels, test_size=0.2, random_state=42)\n"
   ]
  },
  {
   "cell_type": "code",
   "execution_count": 3,
   "id": "b1f626d8",
   "metadata": {},
   "outputs": [],
   "source": [
    "# Convertir las características a formato adecuado para TensorFlow (float32)\n",
    "images_train = images_train.astype(np.float32)\n",
    "images_test = images_test.astype(np.float32)\n",
    "\n",
    "# Normalizar las características entre 0 y 1\n",
    "images_train /= 255.0\n",
    "images_test /= 255.0\n",
    "\n",
    "# Reorganizar las características para que tengan la forma adecuada para CNN (28x28x3)\n",
    "images_train = images_train.reshape(-1, 28, 28, 3)\n",
    "images_test = images_test.reshape(-1, 28, 28, 3)\n",
    "\n",
    "# Convertir las etiquetas a formato adecuado para TensorFlow (entero)\n",
    "labels_train = labels_train.astype(np.int32)\n",
    "labels_test = labels_test.astype(np.int32)\n"
   ]
  },
  {
   "cell_type": "code",
   "execution_count": 84,
   "id": "78fbd9b9",
   "metadata": {},
   "outputs": [],
   "source": [
    "model = tf.keras.Sequential([\n",
    "    tf.keras.layers.Conv2D(filters=32, kernel_size=(3, 3), activation='relu', input_shape=(28, 28, 3)),\n",
    "    tf.keras.layers.MaxPooling2D(pool_size=(2, 2)),\n",
    "    tf.keras.layers.Flatten(),\n",
    "    tf.keras.layers.Dense(units=128, activation='relu'),\n",
    "    tf.keras.layers.Dense(units=len(classes), activation='softmax')\n",
    "])\n"
   ]
  },
  {
   "cell_type": "code",
   "execution_count": 85,
   "id": "dd289de1",
   "metadata": {
    "scrolled": true
   },
   "outputs": [
    {
     "name": "stdout",
     "output_type": "stream",
     "text": [
      "Epoch 1/3\n",
      "7/7 [==============================] - 0s 20ms/step - loss: 0.9411 - accuracy: 0.5278 - val_loss: 0.5304 - val_accuracy: 0.8519\n",
      "Epoch 2/3\n",
      "7/7 [==============================] - 0s 8ms/step - loss: 0.4595 - accuracy: 0.8611 - val_loss: 0.2995 - val_accuracy: 0.9259\n",
      "Epoch 3/3\n",
      "7/7 [==============================] - 0s 9ms/step - loss: 0.2156 - accuracy: 0.9491 - val_loss: 0.1928 - val_accuracy: 0.9630\n"
     ]
    }
   ],
   "source": [
    "model.compile(optimizer='adam', loss='sparse_categorical_crossentropy', metrics=['accuracy'])\n",
    "history = model.fit(images_train, labels_train, epochs=3, batch_size=32, validation_data=(images_test, labels_test))\n"
   ]
  },
  {
   "cell_type": "code",
   "execution_count": 86,
   "id": "b1fe4c35",
   "metadata": {
    "scrolled": true
   },
   "outputs": [
    {
     "name": "stdout",
     "output_type": "stream",
     "text": [
      "2/2 - 0s - loss: 0.1928 - accuracy: 0.9630 - 14ms/epoch - 7ms/step\n",
      "Precisión en el conjunto de prueba: 0.9629629850387573\n"
     ]
    }
   ],
   "source": [
    "test_loss, test_accuracy = model.evaluate(images_test, labels_test, verbose=2)\n",
    "print(\"Precisión en el conjunto de prueba:\", test_accuracy)"
   ]
  },
  {
   "cell_type": "code",
   "execution_count": 87,
   "id": "62d4919f",
   "metadata": {
    "scrolled": true
   },
   "outputs": [
    {
     "name": "stdout",
     "output_type": "stream",
     "text": [
      "2/2 - 0s - loss: 0.1928 - accuracy: 0.9630 - 14ms/epoch - 7ms/step\n"
     ]
    },
    {
     "data": {
      "image/png": "[encoded data removed]",
      "text/plain": [
       "<Figure size 432x288 with 1 Axes>"
      ]
     },
     "metadata": {
      "needs_background": "light"
     },
     "output_type": "display_data"
    }
   ],
   "source": [
    "plt.plot(history.history['accuracy'], label='accuracy')\n",
    "plt.plot(history.history['val_accuracy'], label = 'val_accuracy')\n",
    "plt.xlabel('Epoch')\n",
    "plt.ylabel('Accuracy')\n",
    "plt.ylim([0.5, 1])\n",
    "plt.legend(loc='lower right')\n",
    "\n",
    "test_loss, test_acc = model.evaluate(images_test,  labels_test, verbose=2)"
   ]
  },
  {
   "cell_type": "code",
   "execution_count": 88,
   "id": "7d8fc99f",
   "metadata": {},
   "outputs": [],
   "source": [
    "def mostrar_imagen_clasificada(imagen, modelo, clases):\n",
    "    # Preprocesa la imagen\n",
    "    imagen_preprocesada = imagen.astype(np.float32) / 255.0\n",
    "    imagen_preprocesada = np.expand_dims(imagen_preprocesada, axis=0)\n",
    "\n",
    "    # Realiza la clasificación con el modelo\n",
    "    prediccion = modelo.predict(imagen_preprocesada)\n",
    "    clase_predicha = np.argmax(prediccion[0])\n",
    "    etiqueta_predicha = clases[clase_predicha]\n",
    "\n",
    "    # Muestra la imagen y la clasificación\n",
    "    plt.imshow(imagen)\n",
    "    plt.axis('off')\n",
    "    plt.title('Clase predicha: {}'.format(etiqueta_predicha))\n",
    "    plt.show()\n"
   ]
  },
  {
   "cell_type": "markdown",
   "id": "18e1bb3b",
   "metadata": {},
   "source": [
    "## Hacer predicciones"
   ]
  },
  {
   "cell_type": "code",
   "execution_count": 89,
   "id": "3744ea7b",
   "metadata": {
    "scrolled": true
   },
   "outputs": [
    {
     "name": "stdout",
     "output_type": "stream",
     "text": [
      "2/2 [==============================] - 0s 3ms/step\n"
     ]
    }
   ],
   "source": [
    "predictions = model.predict(images_test)"
   ]
  },
  {
   "cell_type": "code",
   "execution_count": 90,
   "id": "73c8f27d",
   "metadata": {},
   "outputs": [
    {
     "data": {
      "text/plain": [
       "array([0.9679469 , 0.00104542, 0.03100774], dtype=float32)"
      ]
     },
     "execution_count": 90,
     "metadata": {},
     "output_type": "execute_result"
    }
   ],
   "source": [
    "predictions[5]"
   ]
  },
  {
   "cell_type": "code",
   "execution_count": 91,
   "id": "1e86cd19",
   "metadata": {},
   "outputs": [
    {
     "name": "stdout",
     "output_type": "stream",
     "text": [
      "0 [banana]\n"
     ]
    }
   ],
   "source": [
    "pred_label = np.argmax(predictions[1])\n",
    "print(pred_label, \" [\", classes[pred_label], \"]\", sep=\"\")"
   ]
  },
  {
   "cell_type": "code",
   "execution_count": 92,
   "id": "d69efb5f",
   "metadata": {},
   "outputs": [
    {
     "data": {
      "text/plain": [
       "1"
      ]
     },
     "execution_count": 92,
     "metadata": {},
     "output_type": "execute_result"
    }
   ],
   "source": [
    "labels_test[0]"
   ]
  },
  {
   "cell_type": "code",
   "execution_count": 93,
   "id": "f2bce32a",
   "metadata": {},
   "outputs": [],
   "source": [
    "def plot_image(i, predictions_array, true_label, img):\n",
    "  predictions_array, true_label, img = predictions_array, true_label[i], img[i]\n",
    "  plt.grid(False)\n",
    "  plt.xticks([])\n",
    "  plt.yticks([])\n",
    "\n",
    "  plt.imshow(img, cmap=plt.cm.binary)\n",
    "\n",
    "  predicted_label = np.argmax(predictions_array)\n",
    "  if predicted_label == true_label:\n",
    "    color = 'blue'\n",
    "  else:\n",
    "    color = 'red'\n",
    "\n",
    "  plt.xlabel(\"{} {:2.0f}% ({})\".format(classes[predicted_label],\n",
    "                                100*np.max(predictions_array),\n",
    "                                classes[true_label]),\n",
    "                                color=color)\n",
    "\n",
    "def plot_value_array(i, predictions_array, true_label):\n",
    "  predictions_array, true_label = predictions_array, true_label[i]\n",
    "  plt.grid(False)\n",
    "  plt.xticks(range(3))\n",
    "  plt.yticks([])\n",
    "  thisplot = plt.bar(range(3), predictions_array, color=\"#777777\")\n",
    "  plt.ylim([0, 1])\n",
    "  predicted_label = np.argmax(predictions_array)\n",
    "\n",
    "  thisplot[predicted_label].set_color('red')\n",
    "  thisplot[true_label].set_color('blue')"
   ]
  },
  {
   "cell_type": "code",
   "execution_count": 94,
   "id": "90191d0a",
   "metadata": {
    "scrolled": true
   },
   "outputs": [
    {
     "data": {
      "image/png": "[encoded data removed]",
      "text/plain": [
       "<Figure size 432x216 with 2 Axes>"
      ]
     },
     "metadata": {
      "needs_background": "light"
     },
     "output_type": "display_data"
    }
   ],
   "source": [
    "i = 5\n",
    "plt.figure(figsize=(6,3))\n",
    "plt.subplot(1,2,1)\n",
    "plot_image(i, predictions[i], labels_test, images_test)\n",
    "plt.subplot(1,2,2)\n",
    "plot_value_array(i, predictions[i],  labels_test)\n",
    "plt.show()"
   ]
  },
  {
   "cell_type": "code",
   "execution_count": 95,
   "id": "3740832f",
   "metadata": {},
   "outputs": [
    {
     "data": {
      "image/png": "[encoded data removed]",
      "text/plain": [
       "<Figure size 432x216 with 2 Axes>"
      ]
     },
     "metadata": {
      "needs_background": "light"
     },
     "output_type": "display_data"
    }
   ],
   "source": [
    "i = 0\n",
    "plt.figure(figsize=(6,3))\n",
    "plt.subplot(1,2,1)\n",
    "plot_image(i, predictions[i], labels_test, images_test)\n",
    "plt.subplot(1,2,2)\n",
    "plot_value_array(i, predictions[i],  labels_test)\n",
    "plt.show()"
   ]
  },
  {
   "cell_type": "code",
   "execution_count": 96,
   "id": "2e07ab27",
   "metadata": {},
   "outputs": [
    {
     "data": {
      "image/png": "[encoded data removed]",
      "text/plain": [
       "<Figure size 432x216 with 2 Axes>"
      ]
     },
     "metadata": {
      "needs_background": "light"
     },
     "output_type": "display_data"
    }
   ],
   "source": [
    "i = 17\n",
    "plt.figure(figsize=(6,3))\n",
    "plt.subplot(1,2,1)\n",
    "plot_image(i, predictions[i], labels_test, images_test)\n",
    "plt.subplot(1,2,2)\n",
    "plot_value_array(i, predictions[i],  labels_test)\n",
    "plt.show()"
   ]
  },
  {
   "cell_type": "code",
   "execution_count": 97,
   "id": "e64ef2f4",
   "metadata": {},
   "outputs": [
    {
     "data": {
      "image/png": "[encoded data removed]",
      "text/plain": [
       "<Figure size 432x216 with 2 Axes>"
      ]
     },
     "metadata": {
      "needs_background": "light"
     },
     "output_type": "display_data"
    }
   ],
   "source": [
    "i = 2\n",
    "plt.figure(figsize=(6,3))\n",
    "plt.subplot(1,2,1)\n",
    "plot_image(i, predictions[i], labels_test, images_test)\n",
    "plt.subplot(1,2,2)\n",
    "plot_value_array(i, predictions[i],  labels_test)\n",
    "plt.show()"
   ]
  },
  {
   "cell_type": "code",
   "execution_count": null,
   "id": "cb16e915",
   "metadata": {},
   "outputs": [],
   "source": []
  }
 ],
 "metadata": {
  "kernelspec": {
   "display_name": "Python 3 (ipykernel)",
   "language": "python",
   "name": "python3"
  },
  "language_info": {
   "codemirror_mode": {
    "name": "ipython",
    "version": 3
   },
   "file_extension": ".py",
   "mimetype": "text/x-python",
   "name": "python",
   "nbconvert_exporter": "python",
   "pygments_lexer": "ipython3",
   "version": "3.10.6"
  }
 },
 "nbformat": 4,
 "nbformat_minor": 5
}
